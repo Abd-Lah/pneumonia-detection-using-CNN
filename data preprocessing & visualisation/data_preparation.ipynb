{
 "cells": [
  {
   "cell_type": "code",
   "execution_count": 10,
   "id": "9ae7e309",
   "metadata": {},
   "outputs": [],
   "source": [
    "import os\n",
    "import random\n",
    "import tensorflow as tf\n",
    "from tensorflow.keras.preprocessing.image import ImageDataGenerator, img_to_array, load_img, array_to_img\n",
    "import matplotlib.pyplot as plt"
   ]
  },
  {
   "cell_type": "code",
   "execution_count": 11,
   "id": "9aeefbf2",
   "metadata": {},
   "outputs": [],
   "source": [
    "# Function to load and resize images from a directory\n",
    "def load_images_from_directory(directory, target_size):\n",
    "    images = []\n",
    "    for filename in os.listdir(directory):\n",
    "        img_path = os.path.join(directory, filename)\n",
    "        if os.path.isfile(img_path):\n",
    "            img = load_img(img_path, target_size=target_size)\n",
    "            images.append(img_to_array(img))\n",
    "    return images\n",
    "\n",
    "# Function to augment images and save them\n",
    "def augment_images(images, augmentor, target_dir, target_count):\n",
    "    current_count = len(images)\n",
    "    if current_count >= target_count:\n",
    "        return\n",
    "\n",
    "    images_needed = target_count - current_count\n",
    "    augmented_images = []\n",
    "\n",
    "    while len(augmented_images) < images_needed:\n",
    "        img = random.choice(images)\n",
    "        img = img.reshape((1,) + img.shape)\n",
    "        for batch in augmentor.flow(img, batch_size=1):\n",
    "            augmented_image = array_to_img(batch[0])\n",
    "            augmented_images.append(augmented_image)\n",
    "            if len(augmented_images) >= images_needed:\n",
    "                break\n",
    "\n",
    "    for i, img in enumerate(augmented_images):\n",
    "        img.save(os.path.join(target_dir, f'aug_{i}.png'))\n",
    "\n",
    "# Main function to resize and augment images in the dataset\n",
    "def resize_and_augment(base_dir, target_size=(400, 400), target_count=4000):\n",
    "    normal_dir = os.path.join(base_dir, 'NORMAL')\n",
    "    pneumonia_dir = os.path.join(base_dir, 'PNEUMONIA')\n",
    "\n",
    "    normal_images = load_images_from_directory(normal_dir, target_size)\n",
    "    pneumonia_images = load_images_from_directory(pneumonia_dir, target_size)\n",
    "\n",
    "    augmentor = ImageDataGenerator(\n",
    "        width_shift_range=0.1,\n",
    "        height_shift_range=0.1,\n",
    "        shear_range=0.1,\n",
    "        zoom_range=0.1,\n",
    "        horizontal_flip=True,\n",
    "        fill_mode='nearest'\n",
    "    )\n",
    "\n",
    "    augment_images(normal_images, augmentor, normal_dir, target_count)\n",
    "    augment_images(pneumonia_images, augmentor, pneumonia_dir, target_count)\n"
   ]
  },
  {
   "cell_type": "code",
   "execution_count": 13,
   "id": "b839b988",
   "metadata": {},
   "outputs": [
    {
     "name": "stdout",
     "output_type": "stream",
     "text": [
      "Number of NORMAL images before augmentation: 1341\n",
      "Number of PNEUMONIA images before augmentation: 3875\n",
      "Number of NORMAL images after augmentation: 4000\n",
      "Number of PNEUMONIA images after augmentation: 4000\n"
     ]
    }
   ],
   "source": [
    "# Function to count the number of images in a directory\n",
    "def count_images(directory):\n",
    "    return len([filename for filename in os.listdir(directory) if os.path.isfile(os.path.join(directory, filename))])\n",
    "\n",
    "# Set base directory\n",
    "base_dir = 'chest_xray/train'\n",
    "normal_dir = os.path.join(base_dir, 'NORMAL')\n",
    "pneumonia_dir = os.path.join(base_dir, 'PNEUMONIA')\n",
    "\n",
    "# Calculate number of images before augmentation\n",
    "normal_count_before = count_images(normal_dir)\n",
    "pneumonia_count_before = count_images(pneumonia_dir)\n",
    "\n",
    "print(f\"Number of NORMAL images before augmentation: {normal_count_before}\")\n",
    "print(f\"Number of PNEUMONIA images before augmentation: {pneumonia_count_before}\")\n",
    "\n",
    "# Execute the resizing and augmentation process\n",
    "resize_and_augment(base_dir)\n",
    "\n",
    "# Calculate number of images after augmentation\n",
    "normal_count_after = count_images(normal_dir)\n",
    "pneumonia_count_after = count_images(pneumonia_dir)\n",
    "\n",
    "print(f\"Number of NORMAL images after augmentation: {normal_count_after}\")\n",
    "print(f\"Number of PNEUMONIA images after augmentation: {pneumonia_count_after}\")\n"
   ]
  },
  {
   "cell_type": "code",
   "execution_count": null,
   "id": "fefd6cb5",
   "metadata": {},
   "outputs": [],
   "source": []
  }
 ],
 "metadata": {
  "kernelspec": {
   "display_name": "Python 3 (ipykernel)",
   "language": "python",
   "name": "python3"
  },
  "language_info": {
   "codemirror_mode": {
    "name": "ipython",
    "version": 3
   },
   "file_extension": ".py",
   "mimetype": "text/x-python",
   "name": "python",
   "nbconvert_exporter": "python",
   "pygments_lexer": "ipython3",
   "version": "3.11.7"
  }
 },
 "nbformat": 4,
 "nbformat_minor": 5
}
