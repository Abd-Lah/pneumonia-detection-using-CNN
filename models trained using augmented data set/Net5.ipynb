{
 "cells": [
  {
   "cell_type": "code",
   "execution_count": 4,
   "id": "6191640e",
   "metadata": {},
   "outputs": [],
   "source": [
    "import os\n",
    "import numpy as np\n",
    "import tensorflow as tf\n",
    "from tensorflow.keras.preprocessing.image import ImageDataGenerator\n",
    "from tensorflow.keras.models import Model, load_model\n",
    "from tensorflow.keras.layers import Flatten, Dense, Dropout, Conv2D, MaxPooling2D, Input,BatchNormalization\n",
    "from tensorflow.keras.optimizers import Adam\n",
    "from tensorflow.keras.callbacks import ModelCheckpoint, EarlyStopping\n",
    "from sklearn.metrics import classification_report, confusion_matrix\n",
    "import matplotlib.pyplot as plt"
   ]
  },
  {
   "cell_type": "code",
   "execution_count": 1,
   "id": "4c93e23f",
   "metadata": {},
   "outputs": [],
   "source": [
    "# Define directories\n",
    "train_dir = 'chest_xray/train'\n",
    "test_dir = 'chest_xray/test'\n",
    "\n",
    "# Image dimensions\n",
    "img_width, img_height = 100, 100\n",
    "batch_size = 32\n",
    "epochs = 20"
   ]
  },
  {
   "cell_type": "code",
   "execution_count": 5,
   "id": "8d2ba298",
   "metadata": {},
   "outputs": [
    {
     "name": "stdout",
     "output_type": "stream",
     "text": [
      "Found 6400 images belonging to 2 classes.\n",
      "Found 1600 images belonging to 2 classes.\n",
      "Found 624 images belonging to 2 classes.\n"
     ]
    }
   ],
   "source": [
    "# Data augmentation and preprocessing for training and validation\n",
    "train_datagen = ImageDataGenerator(\n",
    "    rescale=1.0/255,\n",
    "    validation_split=0.2  # Split data into training and validation sets\n",
    ")\n",
    "\n",
    "# Data preprocessing for test data\n",
    "test_datagen = ImageDataGenerator(\n",
    "    rescale=1.0/255,\n",
    ")\n",
    "\n",
    "train_generator = train_datagen.flow_from_directory(\n",
    "    train_dir,\n",
    "    target_size=(img_width, img_height),\n",
    "    batch_size=batch_size,\n",
    "    color_mode='grayscale',  # Use grayscale images\n",
    "    class_mode='binary',\n",
    "    subset='training'\n",
    ")\n",
    "\n",
    "validation_generator = train_datagen.flow_from_directory(\n",
    "    train_dir,\n",
    "    target_size=(img_width, img_height),\n",
    "    batch_size=batch_size,\n",
    "    color_mode='grayscale',  # Use grayscale images\n",
    "    class_mode='binary',\n",
    "    subset='validation',\n",
    "    shuffle=True  # Important for evaluation metrics\n",
    ")\n",
    "\n",
    "test_generator = test_datagen.flow_from_directory(\n",
    "    test_dir,\n",
    "    target_size=(img_width, img_height),\n",
    "    batch_size=batch_size,\n",
    "    color_mode='grayscale',  # Use grayscale images\n",
    "    class_mode='binary',\n",
    "    shuffle=False  # Important for evaluation metrics\n",
    ")"
   ]
  },
  {
   "cell_type": "code",
   "execution_count": 33,
   "id": "6d9decd1",
   "metadata": {},
   "outputs": [],
   "source": [
    "# Define LeNet-5 model architecture\n",
    "def build_lenet5(input_shape):\n",
    "    model = tf.keras.Sequential([\n",
    "        Conv2D(32, (3, 3), activation='relu', input_shape=input_shape),\n",
    "        BatchNormalization(),\n",
    "        MaxPooling2D(pool_size=(2, 2)),\n",
    "        Conv2D(64, (3, 3), activation='relu'),\n",
    "        BatchNormalization(),\n",
    "        MaxPooling2D(pool_size=(2, 2)),\n",
    "        Conv2D(128, (3, 3), activation='relu'),\n",
    "        BatchNormalization(),\n",
    "        MaxPooling2D(pool_size=(2, 2)),\n",
    "        Flatten(),\n",
    "        Dense(512, activation='relu'),\n",
    "        Dropout(0.5),  # Adding dropout layer\n",
    "        Dense(256, activation='relu'),\n",
    "        Dropout(0.5),  # Adding dropout layer\n",
    "        Dense(64, activation='relu'),\n",
    "        Dropout(0.5),  # Adding dropout layer\n",
    "        Dense(1, activation='sigmoid')\n",
    "    ])\n",
    "\n",
    "    \n",
    "    return model\n",
    "\n",
    "# Build the model\n",
    "input_shape = (img_width, img_height, 1)  # Grayscale images have 1 channel\n",
    "model = build_lenet5(input_shape)"
   ]
  },
  {
   "cell_type": "code",
   "execution_count": 34,
   "id": "2b4439fe",
   "metadata": {},
   "outputs": [
    {
     "name": "stdout",
     "output_type": "stream",
     "text": [
      "Model: \"sequential_2\"\n",
      "_________________________________________________________________\n",
      " Layer (type)                Output Shape              Param #   \n",
      "=================================================================\n",
      " conv2d_11 (Conv2D)          (None, 98, 98, 32)        320       \n",
      "                                                                 \n",
      " batch_normalization_6 (Bat  (None, 98, 98, 32)        128       \n",
      " chNormalization)                                                \n",
      "                                                                 \n",
      " max_pooling2d_10 (MaxPooli  (None, 49, 49, 32)        0         \n",
      " ng2D)                                                           \n",
      "                                                                 \n",
      " conv2d_12 (Conv2D)          (None, 47, 47, 64)        18496     \n",
      "                                                                 \n",
      " batch_normalization_7 (Bat  (None, 47, 47, 64)        256       \n",
      " chNormalization)                                                \n",
      "                                                                 \n",
      " max_pooling2d_11 (MaxPooli  (None, 23, 23, 64)        0         \n",
      " ng2D)                                                           \n",
      "                                                                 \n",
      " conv2d_13 (Conv2D)          (None, 21, 21, 128)       73856     \n",
      "                                                                 \n",
      " batch_normalization_8 (Bat  (None, 21, 21, 128)       512       \n",
      " chNormalization)                                                \n",
      "                                                                 \n",
      " max_pooling2d_12 (MaxPooli  (None, 10, 10, 128)       0         \n",
      " ng2D)                                                           \n",
      "                                                                 \n",
      " flatten_4 (Flatten)         (None, 12800)             0         \n",
      "                                                                 \n",
      " dense_15 (Dense)            (None, 512)               6554112   \n",
      "                                                                 \n",
      " dropout_6 (Dropout)         (None, 512)               0         \n",
      "                                                                 \n",
      " dense_16 (Dense)            (None, 256)               131328    \n",
      "                                                                 \n",
      " dropout_7 (Dropout)         (None, 256)               0         \n",
      "                                                                 \n",
      " dense_17 (Dense)            (None, 64)                16448     \n",
      "                                                                 \n",
      " dropout_8 (Dropout)         (None, 64)                0         \n",
      "                                                                 \n",
      " dense_18 (Dense)            (None, 1)                 65        \n",
      "                                                                 \n",
      "=================================================================\n",
      "Total params: 6795521 (25.92 MB)\n",
      "Trainable params: 6795073 (25.92 MB)\n",
      "Non-trainable params: 448 (1.75 KB)\n",
      "_________________________________________________________________\n"
     ]
    }
   ],
   "source": [
    "    # Compile the model\n",
    "model.compile(optimizer=Adam(learning_rate=1e-4), loss='binary_crossentropy', metrics=['accuracy'])\n",
    "\n",
    "# Callbacks for early stopping and saving the best model\n",
    "callbacks = [\n",
    "    ModelCheckpoint('Net5.keras', monitor='val_loss', save_best_only=True, mode='min'),\n",
    "    EarlyStopping(monitor='val_loss', patience=5, mode='min', verbose=1)\n",
    "]\n",
    "model.summary()"
   ]
  },
  {
   "cell_type": "code",
   "execution_count": 35,
   "id": "5a62fd0a",
   "metadata": {},
   "outputs": [
    {
     "name": "stdout",
     "output_type": "stream",
     "text": [
      "Epoch 1/20\n",
      "200/200 [==============================] - 143s 699ms/step - loss: 0.3753 - accuracy: 0.8873 - val_loss: 4.7383 - val_accuracy: 0.5000\n",
      "Epoch 2/20\n",
      "200/200 [==============================] - 139s 695ms/step - loss: 0.1592 - accuracy: 0.9464 - val_loss: 4.6715 - val_accuracy: 0.5000\n",
      "Epoch 3/20\n",
      "200/200 [==============================] - 138s 689ms/step - loss: 0.1169 - accuracy: 0.9584 - val_loss: 0.7785 - val_accuracy: 0.7150\n",
      "Epoch 4/20\n",
      "200/200 [==============================] - 138s 689ms/step - loss: 0.0864 - accuracy: 0.9648 - val_loss: 0.1431 - val_accuracy: 0.9488\n",
      "Epoch 5/20\n",
      "200/200 [==============================] - 138s 688ms/step - loss: 0.0795 - accuracy: 0.9734 - val_loss: 0.1793 - val_accuracy: 0.9331\n",
      "Epoch 6/20\n",
      "200/200 [==============================] - 139s 697ms/step - loss: 0.0700 - accuracy: 0.9770 - val_loss: 0.1331 - val_accuracy: 0.9538\n",
      "Epoch 7/20\n",
      "200/200 [==============================] - 139s 696ms/step - loss: 0.0549 - accuracy: 0.9830 - val_loss: 0.1485 - val_accuracy: 0.9550\n",
      "Epoch 8/20\n",
      "200/200 [==============================] - 139s 698ms/step - loss: 0.0520 - accuracy: 0.9812 - val_loss: 0.1573 - val_accuracy: 0.9513\n",
      "Epoch 9/20\n",
      "200/200 [==============================] - 139s 695ms/step - loss: 0.0447 - accuracy: 0.9844 - val_loss: 0.1484 - val_accuracy: 0.9506\n",
      "Epoch 10/20\n",
      "200/200 [==============================] - 140s 698ms/step - loss: 0.0384 - accuracy: 0.9877 - val_loss: 0.1881 - val_accuracy: 0.9400\n",
      "Epoch 11/20\n",
      "200/200 [==============================] - 138s 690ms/step - loss: 0.0306 - accuracy: 0.9891 - val_loss: 0.1492 - val_accuracy: 0.9550\n",
      "Epoch 11: early stopping\n"
     ]
    }
   ],
   "source": [
    "# Train the model\n",
    "history = model.fit(\n",
    "    train_generator,\n",
    "    steps_per_epoch=train_generator.samples // batch_size,\n",
    "    validation_data=validation_generator,\n",
    "    validation_steps=validation_generator.samples // batch_size,\n",
    "    epochs=epochs,\n",
    "    callbacks=callbacks\n",
    ")"
   ]
  },
  {
   "cell_type": "code",
   "execution_count": 36,
   "id": "63d6cfbd",
   "metadata": {},
   "outputs": [
    {
     "data": {
      "image/png": "[encoded data removed]",
      "text/plain": [
       "<Figure size 1200x400 with 2 Axes>"
      ]
     },
     "metadata": {},
     "output_type": "display_data"
    }
   ],
   "source": [
    "# Plot accuracy and loss\n",
    "plt.figure(figsize=(12, 4))\n",
    "\n",
    "plt.subplot(1, 2, 1)\n",
    "plt.plot(history.history['accuracy'], label='Train Accuracy')\n",
    "plt.plot(history.history['val_accuracy'], label='Validation Accuracy')\n",
    "plt.title('Accuracy per Epoch')\n",
    "plt.xlabel('Epochs')\n",
    "plt.ylabel('Accuracy')\n",
    "plt.legend()\n",
    "\n",
    "plt.subplot(1, 2, 2)\n",
    "plt.plot(history.history['loss'], label='Train Loss')\n",
    "plt.plot(history.history['val_loss'], label='Validation Loss')\n",
    "plt.title('Loss per Epoch')\n",
    "plt.xlabel('Epochs')\n",
    "plt.ylabel('Loss')\n",
    "plt.legend()\n",
    "\n",
    "plt.show()"
   ]
  },
  {
   "cell_type": "code",
   "execution_count": 37,
   "id": "d73f41db",
   "metadata": {},
   "outputs": [],
   "source": [
    "# Save the model\n",
    "model.save('Net5.keras')"
   ]
  },
  {
   "cell_type": "code",
   "execution_count": 6,
   "id": "567e4c89",
   "metadata": {},
   "outputs": [
    {
     "name": "stdout",
     "output_type": "stream",
     "text": [
      "20/20 [==============================] - 8s 362ms/step\n",
      "Confusion Matrix\n",
      "[[ 60 174]\n",
      " [  1 389]]\n",
      "Classification Report\n",
      "              precision    recall  f1-score   support\n",
      "\n",
      "      NORMAL       0.98      0.26      0.41       234\n",
      "   PNEUMONIA       0.69      1.00      0.82       390\n",
      "\n",
      "    accuracy                           0.72       624\n",
      "   macro avg       0.84      0.63      0.61       624\n",
      "weighted avg       0.80      0.72      0.66       624\n",
      "\n"
     ]
    }
   ],
   "source": [
    "# Load the best model\n",
    "best_model = load_model('Net5.keras')\n",
    "\n",
    "# Predict on the test set\n",
    "predictions = best_model.predict(test_generator, steps=test_generator.samples // batch_size + 1)\n",
    "predictions = (predictions > 0.5).astype(int).reshape(-1)\n",
    "\n",
    "true_labels = test_generator.classes\n",
    "\n",
    "print('Confusion Matrix')\n",
    "print(confusion_matrix(true_labels, predictions))\n",
    "\n",
    "print('Classification Report')\n",
    "print(classification_report(true_labels, predictions, target_names=['NORMAL', 'PNEUMONIA']))\n"
   ]
  },
  {
   "cell_type": "code",
   "execution_count": null,
   "id": "c8b0a917",
   "metadata": {},
   "outputs": [],
   "source": []
  },
  {
   "cell_type": "code",
   "execution_count": null,
   "id": "ea66d37f",
   "metadata": {},
   "outputs": [],
   "source": []
  }
 ],
 "metadata": {
  "kernelspec": {
   "display_name": "Python 3 (ipykernel)",
   "language": "python",
   "name": "python3"
  },
  "language_info": {
   "codemirror_mode": {
    "name": "ipython",
    "version": 3
   },
   "file_extension": ".py",
   "mimetype": "text/x-python",
   "name": "python",
   "nbconvert_exporter": "python",
   "pygments_lexer": "ipython3",
   "version": "3.11.7"
  }
 },
 "nbformat": 4,
 "nbformat_minor": 5
}
